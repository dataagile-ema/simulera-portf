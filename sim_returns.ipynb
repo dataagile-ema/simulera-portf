{
  "cells": [
    {
      "cell_type": "code",
      "execution_count": 1,
      "source": [
        "\r\n"
      ],
      "outputs": [],
      "metadata": {
        "trusted": true
      }
    },
    {
      "cell_type": "code",
      "execution_count": 1,
      "source": [
        "!pip install celluloid"
      ],
      "outputs": [
        {
          "output_type": "stream",
          "name": "stdout",
          "text": [
            "Collecting celluloid\n",
            "\u001b[33m  WARNING: Retrying (Retry(total=4, connect=None, read=None, redirect=None, status=None)) after connection broken by 'ProxyError('Cannot connect to proxy.', timeout('timed out',))': /packages/60/a7/7fbe80721c6f1b7370c4e50c77abe31b4d5cfeb58873d4d32f48ae5a0bae/celluloid-0.2.0-py3-none-any.whl\u001b[0m\n",
            "  Downloading https://files.pythonhosted.org/packages/60/a7/7fbe80721c6f1b7370c4e50c77abe31b4d5cfeb58873d4d32f48ae5a0bae/celluloid-0.2.0-py3-none-any.whl\n",
            "Requirement already satisfied: matplotlib in /home/nbuser/anaconda3_501/lib/python3.6/site-packages (from celluloid) (3.0.0)\n",
            "Requirement already satisfied: numpy>=1.10.0 in /home/nbuser/anaconda3_501/lib/python3.6/site-packages (from matplotlib->celluloid) (1.16.2)\n",
            "Requirement already satisfied: cycler>=0.10 in /home/nbuser/anaconda3_501/lib/python3.6/site-packages (from matplotlib->celluloid) (0.10.0)\n",
            "Requirement already satisfied: kiwisolver>=1.0.1 in /home/nbuser/anaconda3_501/lib/python3.6/site-packages (from matplotlib->celluloid) (1.0.1)\n",
            "Requirement already satisfied: pyparsing!=2.0.4,!=2.1.2,!=2.1.6,>=2.0.1 in /home/nbuser/anaconda3_501/lib/python3.6/site-packages (from matplotlib->celluloid) (2.3.0)\n",
            "Requirement already satisfied: python-dateutil>=2.1 in /home/nbuser/anaconda3_501/lib/python3.6/site-packages (from matplotlib->celluloid) (2.8.1)\n",
            "Requirement already satisfied: six in /home/nbuser/anaconda3_501/lib/python3.6/site-packages (from cycler>=0.10->matplotlib->celluloid) (1.11.0)\n",
            "Requirement already satisfied: setuptools in /home/nbuser/anaconda3_501/lib/python3.6/site-packages (from kiwisolver>=1.0.1->matplotlib->celluloid) (41.6.0)\n",
            "Installing collected packages: celluloid\n",
            "Successfully installed celluloid-0.2.0\n",
            "\u001b[33mWARNING: You are using pip version 19.3.1; however, version 20.0.2 is available.\n",
            "You should consider upgrading via the 'pip install --upgrade pip' command.\u001b[0m\n"
          ]
        }
      ],
      "metadata": {
        "trusted": true
      }
    },
    {
      "cell_type": "code",
      "execution_count": 2,
      "source": [
        "%%javascript\r\n",
        "IPython.OutputArea.prototype._should_scroll = function(lines) {\r\n",
        "    return false;\r\n",
        "}"
      ],
      "outputs": [
        {
          "output_type": "display_data",
          "data": {
            "text/plain": [
              "<IPython.core.display.Javascript object>"
            ],
            "application/javascript": "IPython.OutputArea.prototype._should_scroll = function(lines) {\n    return false;\n}\n"
          },
          "metadata": {}
        }
      ],
      "metadata": {
        "trusted": true
      }
    },
    {
      "cell_type": "code",
      "execution_count": 3,
      "source": [
        "b1 = {\r\n",
        "    'name': 'Bonds',\r\n",
        "    'value_nominal': 500000,\r\n",
        "    'expected_return': 0.025,\r\n",
        "    'SRRI': 0.0125,\r\n",
        "    'std': 0.02,\r\n",
        "    'monthly_saving': 0.0,\r\n",
        "    'liquid': True,\r\n",
        "    'ISK': False,\r\n",
        "}\r\n",
        "\r\n",
        "s1 = {\r\n",
        "    'name': 'Stocks',\r\n",
        "    'value_nominal': 500000,\r\n",
        "    'expected_return': 0.08,\r\n",
        "    'SRRI': 0.15,\r\n",
        "    'std': 0.18,\r\n",
        "    'monthly_saving': 0.0,\r\n",
        "    'liquid': True,\r\n",
        "    'ISK': True\r\n",
        "}\r\n",
        "\r\n",
        "ba = {\r\n",
        "    'name': 'Buffertkonto',\r\n",
        "    'value_nominal': 0.0,\r\n",
        "    'expected_return': 0.0065,\r\n",
        "    'SRRI': 0.0,\r\n",
        "    'std': 0.0,\r\n",
        "    'monthly_saving': 0.0,\r\n",
        "    'liquid': True,\r\n",
        "    'ISK': False\r\n",
        "}\r\n",
        "\r\n",
        "p1 = {\r\n",
        "    'Title': '1 mkr',\r\n",
        "    'Stocks': s1,\r\n",
        "    'Bonds': b1,\r\n",
        "    'Bank account' : ba,\r\n",
        "    'Share_stocks': 0.5,\r\n",
        "    'net_value': {\r\n",
        "        'total':   {\r\n",
        "            'nominal': 0.0,\r\n",
        "            'real': 0.0\r\n",
        "        },\r\n",
        "        'liquid':  {\r\n",
        "            'nominal': 0.0,\r\n",
        "            'real': 0.0\r\n",
        "        },\r\n",
        "        'low_volatility': {\r\n",
        "            'nominal': 0.0,\r\n",
        "            'real': 0.0\r\n",
        "        }\r\n",
        "    }\r\n",
        "}\r\n",
        "\r\n",
        "p2 = {\r\n",
        "    'Title': '1 mkr',\r\n",
        "    'Stocks': s1,\r\n",
        "    'Bonds': b1,\r\n",
        "    'Bank account' : ba,\r\n",
        "    'Share_stocks': 0.7,\r\n",
        "    'net_value': {\r\n",
        "        'total':   {\r\n",
        "            'nominal': 0.0,\r\n",
        "            'real': 0.0\r\n",
        "        },\r\n",
        "        'liquid':  {\r\n",
        "            'nominal': 0.0,\r\n",
        "            'real': 0.0\r\n",
        "        },\r\n",
        "        'low_volatility': {\r\n",
        "            'nominal': 0.0,\r\n",
        "            'real': 0.0\r\n",
        "        }\r\n",
        "    }\r\n",
        "}\r\n",
        "\r\n",
        "\r\n",
        "asset_classes = ['Stocks', 'Bonds', 'Bank account']\r\n",
        "liquidity_classes = ['total', 'liquid', 'low_volatility']"
      ],
      "outputs": [],
      "metadata": {
        "trusted": true
      }
    },
    {
      "cell_type": "code",
      "execution_count": 54,
      "source": [
        "import numpy as np\r\n",
        "import datetime\r\n",
        "import pandas as pd\r\n",
        "import copy\r\n",
        "import matplotlib.pyplot as plt\r\n",
        "import matplotlib.patches as mpatches\r\n",
        "import seaborn as sns\r\n",
        "from celluloid import Camera\r\n",
        "\r\n",
        "class SimReturns:\r\n",
        "    def __init__(self, portfolio: dict):\r\n",
        "        self.portfolio = portfolio\r\n",
        "        self.cumulative_inflation = 1.0\r\n",
        "        self.year_balances = []\r\n",
        "        self.__calc_net_value()\r\n",
        "        self.__balance_stocks_and_bonds()\r\n",
        "            \r\n",
        "    def sim_returns(self, no_of_years):\r\n",
        "        now = datetime.datetime.now()\r\n",
        "        self.start_year = now.year\r\n",
        "        net_val = copy.deepcopy(self.portfolio['net_value'])\r\n",
        "        self.year_balances.append(net_val) # år 0\r\n",
        "        for year in range(self.start_year + 1, self.start_year + no_of_years + 1):\r\n",
        "            self.add_year()\r\n",
        "            net_val = copy.deepcopy(self.portfolio['net_value'])\r\n",
        "            self.year_balances.append(net_val)\r\n",
        "            \r\n",
        "    def get_asset(self, name):\r\n",
        "        return next(item for item in self.assets if item[\"name\"] == name)\r\n",
        "\r\n",
        "\r\n",
        "    def sum_of_assets(self, liquidity_classes: str):\r\n",
        "        sum = 0\r\n",
        "        if liquidity_classes == 'total':\r\n",
        "            for asset_class in asset_classes:\r\n",
        "                sum += self.portfolio[asset_class]['value_nominal']\r\n",
        "        elif liquidity_classes == 'liquid':\r\n",
        "            for asset_class in asset_classes:\r\n",
        "                if self.portfolio[asset_class]['liquid'] == True:\r\n",
        "                    sum += self.portfolio[asset_class]['value_nominal']\r\n",
        "        elif liquidity_classes == 'low_volatility':\r\n",
        "            for asset_class in asset_classes:\r\n",
        "                if self.portfolio[asset_class]['std'] <= 0.02:\r\n",
        "                    sum += self.portfolio[asset_class]['value_nominal']\r\n",
        "        return sum \r\n",
        "        \r\n",
        "    def __calc_net_value(self):\r\n",
        "        for liq in liquidity_classes:\r\n",
        "            self.portfolio['net_value'][liq]['nominal'] = self.sum_of_assets(liq)\r\n",
        "            self.portfolio['net_value'][liq]['real'] = self.portfolio['net_value'][liq]['nominal'] / self.cumulative_inflation\r\n",
        "\r\n",
        "    def add_year(self):  \r\n",
        "        for i in range(12):\r\n",
        "            for asset_class in asset_classes:\r\n",
        "                self.portfolio[asset_class]['value_nominal'] += self.portfolio[asset_class]['monthly_saving']\r\n",
        "        for asset_class in asset_classes:\r\n",
        "            yearly_return = np.random.normal(self.portfolio[asset_class]['expected_return'], self.portfolio[asset_class]['std'])\r\n",
        "            self.portfolio[asset_class]['value_nominal'] *= (1 + yearly_return)\r\n",
        "            \r\n",
        "            #Tax\r\n",
        "            if self.portfolio[asset_class]['ISK'] == True:\r\n",
        "                tax_fonddepå = 0.3\r\n",
        "                self.portfolio[asset_class]['value_nominal'] *= 1 + (yearly_return * (1-tax_fonddepå))\r\n",
        "            else:\r\n",
        "                self.portfolio[asset_class]['value_nominal'] *= (1 - 0.0043)\r\n",
        "                \r\n",
        "        self.cumulative_inflation *= 1 + 0.02\r\n",
        "        \r\n",
        "        # Calc real value\r\n",
        "        for asset_class in asset_classes:\r\n",
        "            self.portfolio[asset_class]['value_real'] = self.portfolio[asset_class]['value_nominal'] / self.cumulative_inflation\r\n",
        "        self.__calc_net_value()\r\n",
        "        self.__balance_stocks_and_bonds()\r\n",
        "\r\n",
        "    def __balance_stocks_and_bonds(self):\r\n",
        "        sum_val = self.portfolio['Stocks']['value_nominal'] + self.portfolio['Bonds']['value_nominal']\r\n",
        "        self.portfolio['Stocks']['value_nominal'] = sum_val * self.portfolio['Share_stocks']\r\n",
        "        self.portfolio['Bonds']['value_nominal'] = sum_val * (1 - self.portfolio['Share_stocks'])\r\n",
        "                       \r\n",
        "\r\n",
        "    @staticmethod\r\n",
        "    def monte_carlo_sim_returns(no_of_rounds: int, invest_period: int, portfolio: dict):\r\n",
        "        rounds = []\r\n",
        "        for i in range(no_of_rounds):\r\n",
        "            portfolio_i = copy.deepcopy(portfolio)\r\n",
        "            sim = SimReturns(portfolio_i)\r\n",
        "            sim.sim_returns(invest_period)\r\n",
        "            rounds.append(sim)\r\n",
        "        \r\n",
        "        final_year_df = SimReturns.create_round_df(rounds, -1)\r\n",
        "        return final_year_df, rounds\r\n",
        "    \r\n",
        "    @staticmethod\r\n",
        "    def create_round_df(rounds: [], index: int):\r\n",
        "        df = pd.DataFrame()\r\n",
        "        devisor = 1000000\r\n",
        "        for r in rounds:\r\n",
        "            record = {\r\n",
        "                'nominal': (r.year_balances[index]['total']['nominal']/devisor),\r\n",
        "                'real': (r.year_balances[index]['total']['real']/devisor),\r\n",
        "                'real_liquid': (r.year_balances[index]['liquid']['real']/devisor),\r\n",
        "                'real_low_loss_liquid': (r.year_balances[index]['low_volatility']['real']/devisor)\r\n",
        "            }\r\n",
        "            df = df.append(record, ignore_index=True)\r\n",
        "        return df\r\n",
        "    \r\n",
        "    @staticmethod\r\n",
        "    def plot_real_liquid(df: pd.DataFrame):\r\n",
        "        SimReturns.plot(df, 'real_liquid', 'real value liquid')\r\n",
        "        \r\n",
        "    @staticmethod\r\n",
        "    def plot_real_liquid_animate(rounds: [], rounds_ref: [], invest_period: int, file_name: str, title: str):\r\n",
        "        fig = plt.figure()\r\n",
        "        plt.xlabel('Value')\r\n",
        "        plt.ylabel('Probalitity')\r\n",
        "        plt.title(title)\r\n",
        "        plt.xlim(0, 10)\r\n",
        "        plt.yticks([])\r\n",
        "        camera = Camera(fig)\r\n",
        "        \r\n",
        "        for i in range(invest_period + 1):\r\n",
        "            df = SimReturns.create_round_df(rounds, i)\r\n",
        "            df = df.rename(columns={'real': 'Portfolio value'})\r\n",
        "            sns.distplot(df['Portfolio value'], hist = False, kde = True,\r\n",
        "                 kde_kws = {'shade': True, 'linewidth': 3}, color = 'darkblue')\r\n",
        "            \r\n",
        "            if i == 0: # ursprunlig investering, kan vara statisk när real avkastning visas (omräkning till till dagans penningvärde)\r\n",
        "                initial_investment = df['Portfolio value'][0]\r\n",
        "            low = plt.axvline(x=df['Portfolio value'].quantile(0.10), color='r', label = 'low 10:th')\r\n",
        "            high = plt.axvline(x=df['Portfolio value'].quantile(0.80), color='b', label = 'high 80th')\r\n",
        "            median = plt.axvline(x=df['Portfolio value'].quantile(0.50), color='g', label= 'median')\r\n",
        "            initial = plt.axvline(x=initial_investment, color='grey', linestyle='--', label='Initial investment')\r\n",
        "\r\n",
        "            #initial = mpatches.Patch(color='grey', label='Initial investment', linestyle='--', fill=False)\r\n",
        "            #median = mpatches.Patch(color='green', label='Median')\r\n",
        "            #low = mpatches.Patch(color='red', label='10:th procentile')\r\n",
        "            #high = mpatches.Patch(color='blue', label='80:th procentile')\r\n",
        "            year = mpatches.Patch(color=None, label=f'year {i}', fill=False, edgecolor=None, linewidth=0)\r\n",
        "\r\n",
        "            plt.legend(handles=[initial, median, low, high, year])\r\n",
        "\r\n",
        "            \r\n",
        "            if len(rounds_ref) > 0:\r\n",
        "                df = SimReturns.create_round_df(rounds_ref, i)\r\n",
        "                df = df.rename(columns={'real': 'Portfolio value'}) \r\n",
        "                sns.distplot(df['Portfolio value'], hist = False, kde = True,\r\n",
        "                      kde_kws={'linestyle':'--'}, color = 'red')\r\n",
        "\r\n",
        "                plt.axvline(x=df['Portfolio value'].quantile(0.10), color='r', linestyle='--')\r\n",
        "                plt.axvline(x=df['Portfolio value'].quantile(0.80), color='b', linestyle='--')\r\n",
        "                plt.axvline(x=df['Portfolio value'].quantile(0.50), color='g', linestyle='--')\r\n",
        "\r\n",
        "            camera.snap()\r\n",
        "        animation = camera.animate()\r\n",
        "        animation.save(f'{file_name}.gif', writer = 'pillow')\r\n",
        "        \r\n",
        "    @staticmethod\r\n",
        "    def plot_real_low_loss_liquid(df: pd.DataFrame):\r\n",
        "        SimReturns.plot(df, 'real_low_loss_liquid', 'real value with low loss risk')\r\n",
        "        \r\n",
        "    @staticmethod\r\n",
        "    def plot_real(df: pd.DataFrame):\r\n",
        "        SimReturns.plot(df, 'real', 'real net value')\r\n",
        "\r\n",
        "    @staticmethod\r\n",
        "    def plot(df: pd.DataFrame, label: str, title: str):\r\n",
        "        plt.figure(figsize=(25, 10))\r\n",
        "        plt.xlim(0, 10)\r\n",
        "        plt.title(title)\r\n",
        "        plt.xticks(np.arange(0, 10, step=0.2))\r\n",
        "        plt.yticks([])\r\n",
        "        sns.distplot(df[label], hist = False, kde = True,\r\n",
        "                 kde_kws = {'shade': True, 'linewidth': 3}, color = 'darkblue')\r\n",
        "        plt.axvline(x=df[label].quantile(0.20), color='r')\r\n",
        "        plt.axvline(x=df[label].quantile(0.80), color='b')\r\n",
        "        plt.axvline(x=df[label].quantile(0.50), color='g')\r\n",
        "        \r\n",
        "        plt.show()"
      ],
      "outputs": [],
      "metadata": {
        "trusted": true
      }
    },
    {
      "cell_type": "code",
      "execution_count": 56,
      "source": [
        "final_year_df, rounds_50_50 = SimReturns.monte_carlo_sim_returns(4000, 20, p1)\r\n",
        "final_year_df, rounds_70_30 = SimReturns.monte_carlo_sim_returns(4000, 20, p2)\r\n",
        "\r\n",
        "#SimReturns.plot_real_liquid(final_year_df)\r\n",
        "#SimReturns.plot_real(final_year_df)\r\n",
        "#SimReturns.plot_real_low_loss_liquid(final_year_df)\r\n",
        "SimReturns.plot_real_liquid_animate(rounds_50_50, [], 20, '50_50', '50% aktie- och 50% räntefonder')\r\n",
        "SimReturns.plot_real_liquid_animate(rounds_70_30, [], 20, '70_30', '70% aktie- och 30% räntefonder')\r\n"
      ],
      "outputs": [
        {
          "output_type": "display_data",
          "data": {
            "text/plain": [
              "<Figure size 432x288 with 1 Axes>"
            ],
            "image/png": "[encoded data removed]"
          },
          "metadata": {
            "needs_background": "light"
          }
        },
        {
          "output_type": "display_data",
          "data": {
            "text/plain": [
              "<Figure size 432x288 with 1 Axes>"
            ],
            "image/png": "[encoded data removed]"
          },
          "metadata": {
            "needs_background": "light"
          }
        }
      ],
      "metadata": {
        "trusted": true
      }
    },
    {
      "cell_type": "code",
      "execution_count": null,
      "source": [],
      "outputs": [],
      "metadata": {
        "trusted": true
      }
    },
    {
      "cell_type": "code",
      "execution_count": null,
      "source": [],
      "outputs": [],
      "metadata": {
        "trusted": true
      }
    }
  ],
  "metadata": {
    "kernelspec": {
      "name": "python36",
      "display_name": "Python 3.6",
      "language": "python"
    },
    "language_info": {
      "mimetype": "text/x-python",
      "nbconvert_exporter": "python",
      "name": "python",
      "pygments_lexer": "ipython3",
      "version": "3.6.6",
      "file_extension": ".py",
      "codemirror_mode": {
        "version": 3,
        "name": "ipython"
      }
    }
  },
  "nbformat": 4,
  "nbformat_minor": 1
}